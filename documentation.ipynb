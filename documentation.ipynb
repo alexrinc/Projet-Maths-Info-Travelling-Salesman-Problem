{
 "cells": [
  {
   "cell_type": "markdown",
   "id": "ee08f462",
   "metadata": {},
   "source": [
    "<H1 style=text-align:center;><b>Projet Maths-Info : Traveling Salesman Problem</b></H1>\n",
    "<h1 style=text-align:center;>(AMU) EADS 2024-2025</h1>\n",
    "\n",
    "<h2 style=text-align:center;><i>Projet présenté par : Alexandre ROMANO / Victoria BOUCHET / Vahé TILDIAN</i></h2>"
   ]
  },
  {
   "cell_type": "markdown",
   "id": "c2a56fef",
   "metadata": {},
   "source": [
    "<br><br><br>"
   ]
  },
  {
   "cell_type": "markdown",
   "id": "9f3bdaf8",
   "metadata": {},
   "source": [
    "## <u>Introduction</u>"
   ]
  },
  {
   "cell_type": "markdown",
   "id": "900a0825",
   "metadata": {},
   "source": [
    "...\n"
   ]
  },
  {
   "cell_type": "markdown",
   "id": "c563dbc9",
   "metadata": {},
   "source": [
    "<br>"
   ]
  },
  {
   "cell_type": "markdown",
   "id": "767eaf18",
   "metadata": {},
   "source": [
    "## <u>Fonctions utiles</u>"
   ]
  },
  {
   "cell_type": "markdown",
   "id": "7b1979d4",
   "metadata": {},
   "source": [
    "..."
   ]
  },
  {
   "cell_type": "markdown",
   "id": "d6c1f132",
   "metadata": {},
   "source": [
    "### distance.py"
   ]
  },
  {
   "cell_type": "markdown",
   "id": "b68e0aa1",
   "metadata": {},
   "source": [
    "..."
   ]
  },
  {
   "cell_type": "code",
   "execution_count": null,
   "id": "292ee3e1",
   "metadata": {},
   "outputs": [],
   "source": [
    "# Distance total d'un chemin\n",
    "def total_path_distance(path, distance_matrix):\n",
    "    path_length = 0\n",
    "    for i in range(len(path) - 1):\n",
    "        path_length += distance_matrix[path[i]][path[i + 1]]\n",
    "    path_length += distance_matrix[path[-1]][path[0]]\n",
    "    return path_length"
   ]
  },
  {
   "cell_type": "markdown",
   "id": "c51d00d1",
   "metadata": {},
   "source": [
    "### generate.py"
   ]
  },
  {
   "cell_type": "markdown",
   "id": "ca3a7c6e",
   "metadata": {},
   "source": [
    "..."
   ]
  },
  {
   "cell_type": "code",
   "execution_count": null,
   "id": "067de63b",
   "metadata": {},
   "outputs": [],
   "source": [
    "import numpy as np\n",
    "from dataclasses import dataclass\n",
    "import random\n",
    "\n",
    "\n",
    "### Génération d'un ensemble de villes et la distance entre elles ###\n",
    "## Peut être généré en faisant une matrice tel que pour la i-ème ville et j-ième ville on ait \n",
    "# [len(i,i) = 0, len(i,j), len(i,j+1) ... ]\n",
    "# [len(j,i), len(j,j) = 0, len(j+1,j+1) ... ]\n",
    "\n",
    "@dataclass\n",
    "class Ville:\n",
    "    \n",
    "    def __init__(self, x, y, id):\n",
    "        self.x = x\n",
    "        self.y = y\n",
    "        self.id = id\n",
    "\n",
    "    def distance_to(self, other: 'Ville'):\n",
    "        return np.sqrt((self.x - other.x)**2 + (self.y - other.y)**2)\n",
    "\n",
    "def distance_matrix(matrix_size): # => Nombre de villes\n",
    "    villes = [Ville(random.randrange(0, 100), random.randrange(0, 100), i) for i in range(matrix_size)] #uniform -> randrange pour du int au lieu de float\n",
    "    distance_matrix = np.zeros((len(villes), len(villes)))\n",
    "\n",
    "    for i, ville1 in enumerate(villes):\n",
    "        for j, ville2 in enumerate(villes):\n",
    "            distance_matrix[i][j] = ville1.distance_to(ville2)\n",
    "\n",
    "    #TEST : retour des coordonénes pour tester la visualisation\n",
    "    coords = [(v.x, v.y) for v in villes]\n",
    "    \n",
    "    return distance_matrix, coords"
   ]
  },
  {
   "cell_type": "markdown",
   "id": "6aa4feb8",
   "metadata": {},
   "source": [
    "### quality.py"
   ]
  },
  {
   "cell_type": "markdown",
   "id": "e3b5802a",
   "metadata": {},
   "source": [
    "..."
   ]
  },
  {
   "cell_type": "code",
   "execution_count": null,
   "id": "2390be60",
   "metadata": {},
   "outputs": [],
   "source": [
    "### Fonction qui testera la qualité et les performances d'un algorithme TSP ###\n",
    "import functions.distance as distance\n",
    "import time\n",
    "\n",
    "def gap(total_path_distance, lower_bound):\n",
    "    return f\"{(total_path_distance - lower_bound) / lower_bound * 100} %\"\n",
    "\n",
    "def evaluate_quality(name, algo, distance_matrix, lower_bound):\n",
    "    start_time = time.process_time()\n",
    "    \n",
    "    path = distance.total_path_distance(algo, distance_matrix)\n",
    "    print(f'Route la plus courte pour l\\'algorithme \" {name} \" : \\n{algo}')\n",
    "    print(f\"Longueur totale du chemin trouvé : {path}\")\n",
    "    print(f\"Qualité de la solution par rapport à la borne inférieure (Nearest Neighbor) : {gap(path, lower_bound)} de distance en moins\")\n",
    "    \n",
    "    end_time = time.process_time()\n",
    "    print(f\"Temps de calcul : {end_time} s\\n\")"
   ]
  },
  {
   "cell_type": "markdown",
   "id": "18bce672",
   "metadata": {},
   "source": [
    "### visualisation.py"
   ]
  },
  {
   "cell_type": "markdown",
   "id": "fe9bca80",
   "metadata": {},
   "source": [
    "$\\fbox{Visualisation des résultats}$\n",
    "\n",
    "Afin de bien se représenter commment chaque fonction implémentée construit une solution pour le TSP, nous avons choisi de créer une fonction de visualisation des résultats, sur un même tableau, dont le code est exposé ci-dessous :"
   ]
  },
  {
   "cell_type": "code",
   "execution_count": null,
   "id": "d067118d",
   "metadata": {},
   "outputs": [],
   "source": [
    "import matplotlib.pyplot as plt\n",
    "\n",
    "def plot_path(coord, paths, names):\n",
    "    \"\"\"\n",
    "    Visualisation des chemins obtenus avec :\n",
    "        coord = Liste des coordonnées\n",
    "        path = Ordre des villes visités \n",
    "        name = nom de la technique utilisée\n",
    "    \n",
    "    \"\"\"\n",
    "    fig, axis = plt.subplots(1, len(paths), figsize=(5 * len(paths), 6))\n",
    "    \n",
    "    if len(paths) == 1:\n",
    "        axis = [axis]\n",
    "\n",
    "    for ax, path, name in zip(axis, paths, names):\n",
    "        path_coords = [coord[i] for i in path] + [coord[path[0]]]\n",
    "        \n",
    "        # Séparation des coordonnées x et y pour créer deux listes avec chacunes d'entre elles\n",
    "        x_path, y_path = zip(*path_coords)\n",
    "        \n",
    "        # --- Visualisation du chemin obtenu ---\n",
    "        #plt.figure(figsize=(8,6))\n",
    "        ax.plot(x_path, y_path, 'ro-', label ='Chemin TSP', markersize=5)  #b --> couleur bleue; o --> marqueur cercle ; \"-\" --> relié par des lignes \n",
    "        \n",
    "        # --- Affichage des numéros de villes ---\n",
    "        # On parcourt les coordonnées originales pour placer chaque numéros\n",
    "        for i, (x,y) in enumerate(coord):\n",
    "            #Affiche le numéro de la ville 'i' (on décale un peu pour la lisibilité)\n",
    "            ax.text(x,y + 0.05, str(i), color='blue', fontsize=12, ha='center')\n",
    "\n",
    "        # Mise en évidence du point de départ\n",
    "        start_city_coords = coord[path[0]]\n",
    "        ax.plot(start_city_coords[0], start_city_coords[1], 'go', markersize=10, label=\"Ville de départ\")\n",
    "\n",
    "\n",
    "        # --- Mise en forme du graphique ---\n",
    "        ax.set_title(f\"Méthode {name}\")\n",
    "        ax.set_xlabel(\"Coordonnée x\")       #Axe des x\n",
    "        ax.set_ylabel(\"Coordonnée y\")       #Axe des y\n",
    "        ax.legend()\n",
    "        ax.grid(True)                   #Grille\n",
    "        ax.axis('equal')                #Evite les distorsions\n",
    "    \n",
    "    plt.tight_layout()\n",
    "    plt.show()                       #Affichage de la fenêtre"
   ]
  },
  {
   "cell_type": "markdown",
   "id": "26be3387",
   "metadata": {},
   "source": [
    "Cette fonction prend en entrée : \n",
    "\n",
    "- $coord$ représentant les coordonnées $(x,y)$ de chaque ville $v$\n",
    "- $paths$ est une liste de chemins dont chaque chemin est une liste d'indice représentant l'ordre des villes visitées selon chaque algorithme\n",
    "- $names$ représente la liste des noms des méthodes utilisées pour génrer les chemins de $paths$ (donc Nearest Neighbor, 2-opt, Simulated Annealing et Cheapest Insertion)\n",
    "\n",
    "Pour chaque chemin, cette fonction trace les circuits TSP avec des lignes rouge reliant chaque ville, ensuite affiche les indices des villes en bleu et chacun d'entre elle sont représenté par un point bleu. La ville de départ est marquée en vert.\n",
    "\n",
    "Plusieurs techniques sont utilisées pour optimiser l'algorithme et le rendu final :\n",
    "- Nous égalisons les axes pour éviter certains distorsions de distances\n",
    "- Les titres, legendes et axes propres sont ajoutés à chaque sous graphes\n",
    "- Si nous avons qu'un chemin, nous traitons le cas seulement à travers la ligne\n",
    "\n",
    "$if$ $len(paths == 1 : axis = [axis])$\n",
    "\n",
    "- Nous décompressons les coordonnées à l'aide de \n",
    "\n",
    "$zip(*path\\_coords)$\n",
    "\n",
    "Ainsi pour chaque chemin fourni nous : \n",
    "\n",
    "- Créeons une sous-figure distinctes, pour afficher le chemin associé à telle méthode\n",
    "- Traçons le chemin, en reliant les villes dans l'ordre donné par $path$\n",
    "- Affichons les numéros de villes pour chaque point\n",
    "- Mettons en évidence la ville de départ\n",
    "- Enfin nous ajoutons les éléments viuels des graphiques comme les titres, légendes, axes etc..."
   ]
  },
  {
   "cell_type": "markdown",
   "id": "8b9cfc6c",
   "metadata": {},
   "source": [
    "<br>"
   ]
  },
  {
   "cell_type": "markdown",
   "id": "96ef3712",
   "metadata": {},
   "source": [
    "## <u>Implémentation des Heuristiques</u>"
   ]
  },
  {
   "cell_type": "markdown",
   "id": "e4e1a024",
   "metadata": {},
   "source": [
    "..."
   ]
  },
  {
   "cell_type": "markdown",
   "id": "5c3f8a4c",
   "metadata": {},
   "source": [
    "### Nearest Neighbor (neighbor.py)"
   ]
  },
  {
   "cell_type": "markdown",
   "id": "b97b28b0",
   "metadata": {},
   "source": [
    "..."
   ]
  },
  {
   "cell_type": "code",
   "execution_count": null,
   "id": "cd061328",
   "metadata": {},
   "outputs": [],
   "source": [
    "### Nearest Neighbor ###\n",
    "def nearest_neighbor(distance_matrix):\n",
    "    n = len(distance_matrix)\n",
    "    unvisited = set(range(n))\n",
    "    current = 0\n",
    "    route = [current]\n",
    "    unvisited.remove(current)\n",
    "\n",
    "    while unvisited:\n",
    "        nearest = min(unvisited, key=lambda city: distance_matrix[current][city])\n",
    "        route.append(nearest)\n",
    "        current = nearest\n",
    "        unvisited.remove(nearest)\n",
    "\n",
    "    route.append(route[0])\n",
    "    return route"
   ]
  },
  {
   "cell_type": "markdown",
   "id": "e682cf9b",
   "metadata": {},
   "source": [
    "### Cheapest Insertion (insertion.py)"
   ]
  },
  {
   "cell_type": "markdown",
   "id": "4e34f2a8",
   "metadata": {},
   "source": [
    "$\\fbox{Insertion Minimale}$\n",
    "\n",
    "L'insertion minimale est une <strong>heuristique gloutonne</strong> qui aide à construire une solution initiale, souvent plus optimale que celle du Nearest Neighbor, au TSP. L'idée est de construire progressivement un chemin, en insérant à chaque tour la ville non encore visitée, en s'assurant que cet ajout augmente le moins possible le coût total du chemin.\n"
   ]
  },
  {
   "cell_type": "code",
   "execution_count": null,
   "id": "81b44e81",
   "metadata": {},
   "outputs": [],
   "source": [
    "#Code de l'heuristique d'insertion minimale\n",
    "import functions.distance as distance\n",
    "\n",
    "def cheapest_insertion(dist_matrix):\n",
    "    \"\"\"\n",
    "    METHODE D'INSERTION : \n",
    "    Construit une solution approchée du TSP par heuristique d'insertion\n",
    "\n",
    "    La fonction prend en entrée une matrice carrée des distances entre les villes et\n",
    "    renvoie un ordre de visite minimisant approximativment la distance totale du chemin\n",
    "\n",
    "    \"\"\"\n",
    "    n = len(dist_matrix)                                 #Nombre total des villes\n",
    "    unvisited = list(range(n))                           #Liste des idices des villes non inserees dans le circuit\n",
    "    path = [unvisited.pop(0), unvisited.pop(0)]          #Initialisation du chemin avec les deux premières villes\n",
    "\n",
    "\n",
    "    while unvisited:\n",
    "        #Recherhce la meilleure ville à inserer et de sa position optimale\n",
    "\n",
    "        best_cost = float('inf')                            #Init avec la valeur infini pour technique borne inférieur\n",
    "        best_place = None\n",
    "        to_insert = None                                    #Ville à insérer lorsque celle-ci augmente le moins le coût total du chemin\n",
    "\n",
    "        for v in unvisited:                                 #Insertion de chaque ville restantes une à une\n",
    "            for i in range(len(path)):\n",
    "                test_path = path[:i+1] + [v] + path[i+1:]   #Création d'un nouveau chemin hypothétique ave la ville v\n",
    "                new_cost = distance.total_path_distance(test_path, dist_matrix)\n",
    "\n",
    "                #Si l'insertion donne un meilleur cout alors on la garde en mémoire comme meilleure option\n",
    "                if new_cost < best_cost:\n",
    "                    best_cost = new_cost    \n",
    "                    best_place = i+1\n",
    "                    to_insert = v\n",
    "\n",
    "        #Insertion de la meilleure ville à la meilleure position\n",
    "        path.insert(best_place, to_insert)\n",
    "        unvisited.remove(to_insert)\n",
    "\n",
    "    path.append(path[0])\n",
    "    return path\n"
   ]
  },
  {
   "cell_type": "markdown",
   "id": "db84feed",
   "metadata": {},
   "source": [
    "Cet algorithme prend en entrée :\n",
    "\n",
    "- $dist\\_matrix$ qui représente une matrice carrée $D$ des distance, comme celle évoque pour $2-opt$. \n",
    "\n",
    "En sortie, nous obtiendrons un circuit complet <strong>fermé</strong> (avec une liste d'indices de villes) qui commence et termine à la même ville de départ.\n",
    "\n",
    "Tout d'abord on initialise $path$ avec les deux premières villes (0 et 1) et la liste $unvisited$ qui contient les villes restantes. \n",
    "\n",
    "Ensuite tant qu'il reste des villes qui n'ont pas été visitées pour chaque ville $v$ :\n",
    "\n",
    "- On va tester toutes les positions d'insertion possibles dans le chemin actuel\n",
    "- On calcule le coût total du chemin avec $path\\_length\\_matrix$ lorsqueb $v$ est supposément inséré à cette position.\n",
    "- On garde l'insertion qui produit le coût total\n",
    "Enfin on va insérer la meilleur ville trouvée à la meilleure position\n",
    "\n",
    "L'algorithme s'arrête lorsque toutes les villes sont dans le chemin."
   ]
  },
  {
   "cell_type": "markdown",
   "id": "33a2f78f",
   "metadata": {},
   "source": [
    "### 2-opt (twoopt.py)"
   ]
  },
  {
   "cell_type": "markdown",
   "id": "684ceeff",
   "metadata": {},
   "source": [
    "$\\fbox{Algorithme 2-OPT}$\n",
    "\n",
    "\n",
    "L'algorihtme 2-opt est une méthode <strong>d'optimisation locale</strong> visant à améliorer une solution initiale, comme mentionné au-dessus. L'idée principale consiste à supprimer deux arêtes du chemin et enssuite à reconnecter les segments d'une autre manière, via des <strong>2-permutations</strong>, si cela permet la réduction du coût total du parcours. "
   ]
  },
  {
   "cell_type": "code",
   "execution_count": null,
   "id": "7ebe5ac4",
   "metadata": {},
   "outputs": [],
   "source": [
    "#Code permettant de résoudre le TSP avec la méthode 2-opt\n",
    "#Se basant sur des 2-permutations\n",
    "\n",
    "def two_opt(path, dist_matrix):\n",
    "    \"\"\"\n",
    "    METHODE 2-OPT : Amélioration d'un chemin du TSP\n",
    "    Prend en entrée un chemin (une liste d'indices) et une matrice de distance\n",
    "    Renvoie un chemin amélioré à l'aide de 2-permutations (inversion d'arête)\n",
    "    \"\"\"\n",
    "    n = len(path)\n",
    "    improve = True              #Initialisation du booléen d'amélioration à Vrai\n",
    "\n",
    "    max_iterations = 1000       #Maximum d'itération avant arrêt de l'algorithme\n",
    "    iteration = 0               #Comptage d'itération\n",
    "\n",
    "    while improve and iteration < max_iterations:         #Evite que le calcul ne boucle trop longtemps lorsque la solution initiale est mauvaise\n",
    "        improve = False\n",
    "        iteration += 1\n",
    "    \n",
    "        for i in range(n-1):\n",
    "                for j in range(i+2, n if i>0 else n-1):   #Empêche les inversions invalides\n",
    "                    a, b = path[i], path[i+1]             # a --> b\n",
    "                    c, d = path[j], path[(j+1)%n]         # c --> d\n",
    "                    \n",
    "                    #Calcul du gain de distance\n",
    "                    delta = -dist_matrix[a][b] -dist_matrix[c][d] + dist_matrix[a][c] + dist_matrix[b][d]\n",
    "\n",
    "                    if delta < 0 : #Si delta est signifcativement négatif alors le chemin est plus court, on procède à l'échange\n",
    "                        path[i+1:j+1] = reversed(path[i+1:j+1])\n",
    "                        improve = True\n",
    "\n",
    "        if iteration >= max_iterations :\n",
    "             print(f\"Avertissement : Arret apres {iteration} iterations, limite maximum\\n\")\n",
    "    return path"
   ]
  },
  {
   "cell_type": "markdown",
   "id": "550d57f9",
   "metadata": {},
   "source": [
    "Dans notre code, 2-opt prend en entrée : \n",
    "\n",
    "- $path$ un chemin = $[p_0, p_1, \\dots, p_{n-1}]$\n",
    "- Une matrice des distances $D$ où $D[i][j]$ donne la distance entre les sommets $i$ et $j$.\n",
    "\n",
    "Et nous allons effectuer nos calculs sur deux arêtes $(a,b) = (p_i, p_{i+1})$ et $(c, d) = (p_j, p_{j+1})$ et on propose de remplacer ces deux arêtes par $(a,c)$ et $(b,d)$, en inversant la sous partie entre $b$ et $c$.\n",
    "\n",
    "\n",
    "<strong>Calcul du gain de coût</strong>\n",
    "\n",
    "Le point central est le <strong>calcul du gain</strong> par l'intermédiaire du coefficien $\\Delta$, calculé comme suivant : \n",
    "\n",
    "$\\Delta = -D[p_i][p_{i+1}] - D[p_j][p_{(j+1) \\bmod n}] + D[p_i][p_j] + D[p_{i+1}][p_{(j+1) \\bmod n}]$\n",
    "\n",
    "Si $\\Delta < 0$ alors le coût du chemin est plus bénéfique et donc nous inversons la sous séquence $path[i+1 : j+1]$\n",
    "\n",
    "\n",
    "<strong>Conditions d'arrêt</strong>\n",
    "- STAGNATION : Une première condition d'arrêt est simplement lorsque l'algorihtme ne voit plus de possibilité d'améliorer et d'effectuer des 2-permutions. Alors dans ce cas, le chemin obtenu est considéré comme amélioré au mieux grâce à 2-opt\n",
    "\n",
    "- LIMITE : Cette seconde condition a été développée à la suite de soucis de boucle longue et inefficaces, surtout lorsque la soluiton initale entrée est mauvais. \n",
    "\n",
    "    $max\\_iterations = 1000$\n",
    "\n",
    "Si le seuil est attint, le processus est interrompu, même si nous n'avons pas encore atteint la stagnation."
   ]
  },
  {
   "cell_type": "markdown",
   "id": "aa021049",
   "metadata": {},
   "source": [
    "### Simulated Annealing (annealing.py)"
   ]
  },
  {
   "cell_type": "markdown",
   "id": "98a48b43",
   "metadata": {},
   "source": [
    "..."
   ]
  },
  {
   "cell_type": "code",
   "execution_count": null,
   "id": "42a77422",
   "metadata": {},
   "outputs": [],
   "source": [
    "import math\n",
    "import random\n",
    "\n",
    "def total_distance(route, coords): # à enlever ? Redondance avec quality\n",
    "    dist = 0\n",
    "    for i in range(len(route)):\n",
    "        ville1 = coords[route[i]]\n",
    "        ville2 = coords[route[(i + 1) % len(route)]]\n",
    "        dist += math.sqrt((ville1[0] - ville2[0]) ** 2 + (ville1[1] - ville2[1]) ** 2)\n",
    "    return dist\n",
    "\n",
    "def simulated_annealing(coords, path, initial_temp, cooling_rate):   \n",
    "    current_path = path\n",
    "    current_distance = total_distance(current_path, coords)\n",
    "\n",
    "    best_path = current_path[:]\n",
    "    best_distance = current_distance\n",
    "\n",
    "    T = initial_temp\n",
    "    max_iterations = 50000\n",
    "\n",
    "    for iteration in range(max_iterations):\n",
    "        # 2-opt\n",
    "        i = random.randint(0, len(coords) - 2)\n",
    "        k = random.randint(i + 1, len(coords) - 1)\n",
    "        \n",
    "        new_path = current_path[:i] + current_path[i:k+1][::-1] + current_path[k+1:]\n",
    "        new_distance = total_distance(new_path, coords)\n",
    "        delta = new_distance - current_distance\n",
    "        \n",
    "        # Est-ce une meilleure solution ?\n",
    "        if delta < 0 or random.random() < math.exp(-delta / T):\n",
    "            current_path = new_path\n",
    "            current_distance = new_distance\n",
    "            # Mise à jour de la meilleure solution\n",
    "            if new_distance < best_distance:\n",
    "                best_path = new_path\n",
    "                best_distance = new_distance\n",
    "\n",
    "        # Réduit la température.\n",
    "        T *= cooling_rate\n",
    "        \n",
    "        \"\"\" if iteration % 1000 == 0: # Pour suivre l'avancée\n",
    "            print(f\"Iteration {iteration}: distance actuelle = {current_distance:.4f}, meilleure distance = {best_distance:.4f}\") \"\"\"\n",
    "\n",
    "    index = best_path.index(0)                          # L'index de la ville 0\n",
    "    best_path = best_path[index:] + best_path[:index]   # On réarrange le chemin pour commencer par la ville 0 (le chemin reste le même)\n",
    "    best_path.append(0)                                 # Retour à la ville de départ (0)\n",
    "    return best_path, best_distance\n",
    "\n",
    "if __name__ == '__main__': # TEST\n",
    "    nb_villes = 10\n",
    "    cities = [(random.uniform(0, 100), random.uniform(0, 100)) for _ in range(nb_villes)]\n",
    "    \n",
    "    # Haute température de départ pour une exploration large des solutions, refroidissement lent pour une convergence graduelle\n",
    "    initial_temp = 10000\n",
    "    cooling_rate = 0.995\n",
    "    \n",
    "    path = [0, 2, 9, 3, 7, 6, 5, 1, 4, 8]\n",
    "    \n",
    "    best_path, best_distance = simulated_annealing(cities, path, initial_temp, cooling_rate)\n",
    "    \n",
    "    print(\"\\nBest path :\")\n",
    "    print(best_path)\n",
    "    print(f\"Total distance: {best_distance:.4f}\")"
   ]
  },
  {
   "cell_type": "markdown",
   "id": "537d2584",
   "metadata": {},
   "source": [
    "<br>"
   ]
  },
  {
   "cell_type": "markdown",
   "id": "b293cac5",
   "metadata": {},
   "source": [
    "## <u>Main</u>"
   ]
  },
  {
   "cell_type": "markdown",
   "id": "2bf60382",
   "metadata": {},
   "source": [
    "..."
   ]
  },
  {
   "cell_type": "code",
   "execution_count": null,
   "id": "a49e42b6",
   "metadata": {},
   "outputs": [],
   "source": [
    "\"\"\"\n",
    "PROJET MATHS-INFO\n",
    "\"\"\"\n",
    "\n",
    "### IMPORTS ###\n",
    "import functions.generate as generate\n",
    "import algorithms.neighbor as neighbor\n",
    "import algorithms.insertion as insertion\n",
    "import algorithms.twoopt as twoopt\n",
    "import algorithms.annealing as annealing\n",
    "import functions.visualisation as vs\n",
    "import functions.quality as qc\n",
    "import functions.distance as distance\n",
    "\n",
    "### MAIN ###\n",
    "distance_matrix, coords = generate.distance_matrix(50)\n",
    "\n",
    "print(\"Matrice des distances entre les villes: \\n\")\n",
    "print(distance_matrix)\n",
    "print(\"\\n\")\n",
    "\n",
    "algo1 = neighbor.nearest_neighbor(distance_matrix)\n",
    "lower_bound = distance.total_path_distance(algo1, distance_matrix) # Référence pour les autres algorithmes\n",
    "qc.evaluate_quality(\"Nearest Neighbor\", algo1, distance_matrix, lower_bound)\n",
    "\n",
    "algo2 = insertion.cheapest_insertion(distance_matrix)\n",
    "qc.evaluate_quality(\"Cheapest Insertion\", algo2, distance_matrix, lower_bound)\n",
    "\n",
    "# Choix du chemin de Nearest Neighbor pour le calcul des deux prochaines heuristiques\n",
    "algo3 = twoopt.two_opt(algo1.copy(), distance_matrix)\n",
    "qc.evaluate_quality(\"2-Opt\", algo3, distance_matrix, lower_bound)\n",
    "\n",
    "# Paramètres de Simulated Annealing\n",
    "initial_temperature = 10000\n",
    "cooling_rate = 0.995\n",
    "path = algo1.copy()\n",
    "\n",
    "path.pop() # On enlève le dernier 0 de Nearest Neighbor pour éviter les doublons\n",
    "\n",
    "algo4_path, algo4_length = annealing.simulated_annealing(coords, path, initial_temperature, cooling_rate)\n",
    "qc.evaluate_quality(\"Simulated Annealing\", algo4_path, distance_matrix, lower_bound)\n",
    "\n",
    "# Affichage sur la même figure des visualisations des 3 heuristiques\n",
    "vs.plot_path(coords, [algo1, algo2, algo3], [\"Nearest Neighbor\", \"Insertion\", \"Two Opt\"])"
   ]
  }
 ],
 "metadata": {
  "language_info": {
   "name": "python"
  }
 },
 "nbformat": 4,
 "nbformat_minor": 5
}
