{
 "cells": [
  {
   "cell_type": "markdown",
   "id": "ee08f462",
   "metadata": {},
   "source": [
    "<H1 style=text-align:center;><b>Projet Maths-Info : Traveling Salesman Problem</b></H1>\n",
    "<h1 style=text-align:center;>(AMU) EADS 2024-2025</h1>\n",
    "\n",
    "<h2 style=text-align:center;><i>Projet présenté par : Alexandre ROMANO / Victoria BOUCHET / Vahé TILDIAN</i></h2>"
   ]
  },
  {
   "cell_type": "markdown",
   "id": "c2a56fef",
   "metadata": {},
   "source": [
    "<br><br><br>"
   ]
  },
  {
   "cell_type": "markdown",
   "id": "9f3bdaf8",
   "metadata": {},
   "source": [
    "## <u>Introduction</u>"
   ]
  },
  {
   "cell_type": "markdown",
   "id": "900a0825",
   "metadata": {},
   "source": [
    "Le <strong>Problème du Voyageur de Commerce</strong>, abrégé en TSP, est un problème d'optimisation combinatoire assez emblématique dans le monde de l'informatique théorique.\n",
    "\n",
    "Il consiste à déterminer un chemin de longueur minimale passant exactement une fois par ville et revenant au point de départ, dans un réseau de $n$ villes. \n",
    "\n",
    "Cette approche est $NP$-difficile, ce qui signifie qu'aujourd'hui, aucune approche existante permet d'obtenir la solution optimale à ce problème. \n",
    "Ce qui le rend emblématique est sa difficulté de résolution malgré un énoncé très simple.\n",
    "\n",
    "$\\fbox{Le Projet}$\n",
    "\n",
    "Notre projet consiste à explorer plusieurs <strong>heuristiques</strong> <i>(ce sont des méthodes permettant d'obtenir une solution faisable, une résolution approximative donc pas forcément optimale)</i> et de les étudier afin d'évaluer leurs résultats, en fonction de leur qualité et de leur temps d'exécution.\n",
    "\n",
    "Nous avions le choix d'implémenter au minimum 2 des heuristiques proposé dans ce projet, nous avons finalement étudié les 4 heuristiques : \n",
    "\n",
    "- <u>Nearest Neighbor</u>, heuristique gloutonne qui nous servira pour d'autres méthodes comme solution initiale\n",
    "- <u>Cheapest Insertion</u>, qui apporte une approche plus détaillée que Nearest Neighbor mais reste une heuristique gloutonne\n",
    "- <u>Two-Opt</u>, heuristique de recherche locale se basant sur des 2-permutations\n",
    "- <u>Simulated Annealing</u>, s'inspirant de la mettalurgie et apportant une part d'aléatoire pour améliorer Two-Opt\n"
   ]
  },
  {
   "cell_type": "markdown",
   "id": "c563dbc9",
   "metadata": {},
   "source": [
    "<br>"
   ]
  },
  {
   "cell_type": "markdown",
   "id": "767eaf18",
   "metadata": {},
   "source": [
    "## <u>Fonctions utiles</u>"
   ]
  },
  {
   "cell_type": "markdown",
   "id": "7b1979d4",
   "metadata": {},
   "source": [
    "Voici les fonctions auxilliaires que nous avons utilisé à la réalisation de ce projet pour la bonne implémentation des heuristiques."
   ]
  },
  {
   "cell_type": "markdown",
   "id": "d6c1f132",
   "metadata": {},
   "source": [
    "### distance.py"
   ]
  },
  {
   "cell_type": "markdown",
   "id": "b68e0aa1",
   "metadata": {},
   "source": [
    "Permet de calculer la distance totale parcourue d'un chemin issue d'une heuristique."
   ]
  },
  {
   "cell_type": "code",
   "execution_count": null,
   "id": "292ee3e1",
   "metadata": {},
   "outputs": [],
   "source": [
    "def total_path_distance(path, distance_matrix):\n",
    "    path_length = 0\n",
    "    for i in range(len(path) - 1):         # On cumule les distances entre les villes i et i + 1                    \n",
    "        path_length += distance_matrix[path[i]][path[i + 1]]\n",
    "    path_length += distance_matrix[path[-1]][path[0]]\n",
    "    return path_length"
   ]
  },
  {
   "cell_type": "markdown",
   "id": "72e7ce8a",
   "metadata": {},
   "source": [
    "<u>Paramètres d'entrée :</u>\n",
    "- $path$ = $[p_0, p_1, \\dots, p_{n-1}]$, où p est l'indice d'une ville, représente un chemin solution d'une des heuristiques\n",
    "- $distance\\_matrix$ : Une matrice carrée (liste de liste) des distances $D$ où $D[i][j]$ représente la distance entre les sommets $i$ et $j$ (entre la ville $i$ et la ville $j$)\n",
    "\n",
    "<u>Retour de la fonction :</u>\n",
    "- $path\\_length$ : distance totale parcourue selon le chemin en entrée et la matrice des distances"
   ]
  },
  {
   "cell_type": "markdown",
   "id": "c51d00d1",
   "metadata": {},
   "source": [
    "### generate.py"
   ]
  },
  {
   "cell_type": "markdown",
   "id": "ca3a7c6e",
   "metadata": {},
   "source": [
    "$\\fbox{Génération des villes}$\n",
    "\n",
    "Tout d'abord, avant de commencer il nous faut générer un ensemble de villes, chacune avec des coordonnées $(x,y)$ afin de modéliser notre problème du TSP :"
   ]
  },
  {
   "cell_type": "code",
   "execution_count": null,
   "id": "067de63b",
   "metadata": {},
   "outputs": [],
   "source": [
    "import numpy as np\n",
    "import random\n",
    "\n",
    "class City:\n",
    "    \n",
    "    def __init__(self, x, y, id):\n",
    "        self.x = x\n",
    "        self.y = y\n",
    "        self.id = id\n",
    "\n",
    "    def distance_to(self, other: 'City'):\n",
    "        return np.sqrt((self.x - other.x)**2 + (self.y - other.y)**2)   # Distance euclidienne entre deux villes en fonction des coordonnées\n",
    "\n",
    "def distance_matrix(matrix_size):\n",
    "    cities = [City(random.uniform(0, 100), random.uniform(0, 100), i) for i in range(matrix_size)] # Liste contenant n villes (selon matrix_size) avec des coordonnées aléatoires\n",
    "    distance_matrix = np.zeros((len(cities), len(cities)))                                         # La matrice est remplie de 0 pour l'initialiser\n",
    "\n",
    "    for i, city1 in enumerate(cities):\n",
    "        for j, city2 in enumerate(cities):\n",
    "            distance_matrix[i][j] = city1.distance_to(city2)                                       # Calcul des distances entre chaque ville\n",
    "\n",
    "    # Retour des coordonnées des villes pour la visualisation\n",
    "    coords = [(v.x, v.y) for v in cities]\n",
    "    \n",
    "    return distance_matrix, coords"
   ]
  },
  {
   "cell_type": "markdown",
   "id": "d70c1e92",
   "metadata": {},
   "source": [
    "$\\fbox{Classe City}$\n",
    "\n",
    "<u>Attributs de la classe</u>\n",
    "\n",
    "- $x$ (float) : représente la coordonnée X de la ville\n",
    "- $y$ (float) : représente la coordonnée Y de la ville\n",
    "- $id$ (int) : identifiant de la ville\n",
    "\n",
    "$\\fbox{Méthodes}$\n",
    "\n",
    "1.<u> Fonction \"distance_to\"</u>\n",
    "\n",
    "Cette fonction calcule la distance euclidienne entre la ville actuelle et une autre ville <i>(other)</i>\n",
    "\n",
    "2.<u> Fonction \"distance_matrix\"</u>\n",
    "\n",
    "<u>Paramètre d'entrée :</u>\n",
    "\n",
    "- $matrix\\_size$ : représente le nombre de villes à générer\n",
    "\n",
    "<u>Retour de la fonction :</u> \n",
    "\n",
    "- $distance\\_matrix$ : est une matrice carrée contenant les distances euclidiennes entre chaque paire de villes\n",
    "- $coords$ : est une liste des coordonnées $(x,y)$ des villes générées, qui sera notamment utilisée pour la visualisation des résultats. "
   ]
  },
  {
   "cell_type": "markdown",
   "id": "6aa4feb8",
   "metadata": {},
   "source": [
    "### quality.py"
   ]
  },
  {
   "cell_type": "markdown",
   "id": "e3b5802a",
   "metadata": {},
   "source": [
    "$\\fbox{Qualité des résultats}$\n",
    "\n",
    "L'objectif de notre projet étant d'évaluer la qualité et la rapidité de chacunes des heuristiques implémentées, nous avons ci-dessous deux fonctions utilisées dans notre évaluation : "
   ]
  },
  {
   "cell_type": "code",
   "execution_count": null,
   "id": "2390be60",
   "metadata": {},
   "outputs": [],
   "source": [
    "import functions.distance as distance\n",
    "import time\n",
    "\n",
    "def gap(total_path_distance, lower_bound):\n",
    "    return f\"{(total_path_distance - lower_bound) / lower_bound * 100} %\"   # Calcule l'écart relatif entre la distance trouvée et la borne inférieure en pourcentage\n",
    "\n",
    "def evaluate_quality(name, algo, distance_matrix, lower_bound):\n",
    "    start_time = time.process_time()    # Début du chronomètre\n",
    "    \n",
    "    path = distance.total_path_distance(algo, distance_matrix)\n",
    "    print(f'Route la plus courte pour l\\'algorithme \" {name} \" : \\n{algo}')\n",
    "    print(f\"Longueur totale du chemin trouvé : {path}\")\n",
    "    print(f\"Qualité de la solution par rapport à la borne inférieure (Nearest Neighbor) : {gap(path, lower_bound)} de distance\")\n",
    "    \n",
    "    end_time = time.process_time()      # Fin du chronomètre\n",
    "    print(f\"Temps de calcul : {end_time} s\\n\")"
   ]
  },
  {
   "cell_type": "markdown",
   "id": "3a4adb9f",
   "metadata": {},
   "source": [
    "$\\fbox{Fonction \"gap\"}$\n",
    "\n",
    "<u>Paramètres d'entrées</u> :\n",
    "\n",
    "- $total\\_path\\_distance$ : représente la distance totale du chemin proposé par l'algorithme\n",
    "- $lower\\_bound$ : borne inférieur servant de référence (ici résultat du Nearest Neighbor)\n",
    "\n",
    "<u>Retour de la fonction</u> :\n",
    "\n",
    "- $str$ : est le pourcentage d'écart par rapport à la borne inférieur $lower\\_bound$\n",
    "\n",
    "<u>Principe</u>\n",
    "\n",
    "Cette fonction calcule l'écart relatif, en pourcentage, entre une solution trouvée par un algorithme et une borne inférieure, donc une valeur de référence minimale. Cette valeur de référence a été fixée au chemin obtenu par Nearest Neighbor. Cela nous permet de mesurer la qualité d'une solution \"approximative\".\n",
    "\n",
    "$\\fbox{Fonction \"evaluate\\_quality\"}$\n",
    "\n",
    "<u>Paramètres d'entrées</u>:\n",
    "\n",
    "- $name$ (str) : représente le nom de l'algorithme\n",
    "- $algo$ (list) : est une solution (liste ordonnée des villes parcourue) produite par l'algorithme à évaluer\n",
    "- $distance\\_matrix$ : matrice des distances entre les villes\n",
    "- $lower\\_bounds$ : borne inférieur pour évaluer la qualité de la solution\n",
    "\n",
    "\n",
    "<u>Principe</u> :\n",
    "\n",
    "- Lance un chronomètre avec $time.process\\_time()$ pour mesurer uniquement le temps de calcul \n",
    "- Calcule la distance totale du chemin fourni\n",
    "- Affiche le chemin, la distance totale et la qualité de la solution via $gap()$\n",
    "- Affiche enfin le temps de calcul écoulé"
   ]
  },
  {
   "cell_type": "markdown",
   "id": "18bce672",
   "metadata": {},
   "source": [
    "### visualisation.py"
   ]
  },
  {
   "cell_type": "markdown",
   "id": "fe9bca80",
   "metadata": {},
   "source": [
    "$\\fbox{Visualisation des résultats}$\n",
    "\n",
    "Afin de bien se représenter commment chaque fonction implémentée construit une solution pour le TSP, nous avons choisi de créer une fonction de visualisation des résultats, sur un même tableau, dont le code est exposé ci-dessous :"
   ]
  },
  {
   "cell_type": "code",
   "execution_count": null,
   "id": "d067118d",
   "metadata": {},
   "outputs": [],
   "source": [
    "import matplotlib.pyplot as plt\n",
    "\n",
    "def plot_path(coord, paths, names):\n",
    "    \"\"\"\n",
    "    Visualisation des chemins obtenus avec :\n",
    "        coord = Liste des coordonnées\n",
    "        path = Ordre des villes visitées \n",
    "        name = nom de la technique utilisée\n",
    "    \n",
    "    \"\"\"\n",
    "    fig, axis = plt.subplots(1, len(paths), figsize=(5 * len(paths), 6))\n",
    "    \n",
    "    if len(paths) == 1: #Si un seul chemin: objet unique\n",
    "        axis = [axis]\n",
    "\n",
    "    for ax, path, name in zip(axis, paths, names):\n",
    "        path_coords = [coord[i] for i in path] + [coord[path[0]]]\n",
    "        \n",
    "        # Séparation des coordonnées x et y pour créer deux listes avec chacune d'entre elles\n",
    "        x_path, y_path = zip(*path_coords)\n",
    "        \n",
    "        # --- VISUALISATION DU CHEMIN OBTENU ---\n",
    "        ax.plot(x_path, y_path, 'ro-', label ='Chemin TSP', markersize=5) #r --> rouge ; o --> marqueur cercle ; \"-\" --> relié par des lignes \n",
    "        \n",
    "        # --- AFFICHAGE DES NUMEROS DE VILLES --\n",
    "        # Parcours des coordonnées (x,y) originales pour associer à chaque numéros des villes 'i' avec un décalage pour la lisibilité\n",
    "        for i, (x,y) in enumerate(coord):\n",
    "            #Affiche le numéro de la ville 'i' (on décale un peu pour la lisibilité)\n",
    "            ax.text(x,y + 1.5, str(i), color='blue', fontsize=12, ha='center') # ha=center --> Aligner horizontalement les numéros de villes aux cercles\n",
    "\n",
    "        # Mise en évidence du point de départ\n",
    "        start_city_coords = coord[path[0]]\n",
    "        ax.plot(start_city_coords[0], start_city_coords[1], 'go', markersize=10, label=\"Ville de départ\") #g --> vert ; o --> marqueur cercle\n",
    "\n",
    "\n",
    "        # --- MISE EN FORME DU GRAPHIQUE ---\n",
    "        ax.set_title(f\"Méthode {name}\")\n",
    "        ax.set_xlabel(\"Coordonnée x\")       #Axe des x\n",
    "        ax.set_ylabel(\"Coordonnée y\")       #Axe des y\n",
    "        ax.legend()\n",
    "        ax.grid(True)                       #Grille pour permettre une meilleure visualisation des chemins\n",
    "        ax.axis('equal')                    #Evite les distorsions des axes x et y \n",
    "    \n",
    "    plt.tight_layout()\n",
    "    plt.show()                              #Affichage de la fenêtre"
   ]
  },
  {
   "cell_type": "markdown",
   "id": "26be3387",
   "metadata": {},
   "source": [
    "<u>Paramètres d'entrée :</u>\n",
    "\n",
    "- $coord$ représentant les coordonnées $(x,y)$ de chaque ville $v$\n",
    "- $paths$ est une liste de chemins dont chaque chemin est une liste d'indice représentant l'ordre des villes visitées selon chaque algorithme\n",
    "- $names$ représente la liste des noms des méthodes utilisées pour générer les chemins de $paths$ (donc Nearest Neighbor, 2-opt, Simulated Annealing et Cheapest Insertion)\n",
    "\n",
    "Pour chaque chemin, cette fonction trace les circuits TSP avec des lignes rouge reliant chaque ville, ensuite affiche les indices des villes en bleu et chacun d'entre elle sont représenté par un point bleu. La ville de départ est marquée en vert.\n",
    "\n",
    "Plusieurs techniques sont utilisées pour optimiser l'algorithme et le rendu final :\n",
    "- Nous égalisons les axes pour éviter certaines distorsions de distances\n",
    "- Les titres, légendes et axes propres sont ajoutés à chaque sous-graphes\n",
    "- Si nous avons qu'un chemin, nous traitons le cas seulement à travers la ligne :\n",
    "\n",
    "$if$ $len(paths == 1 : axis = [axis])$\n",
    "\n",
    "- Nous décompressons les coordonnées à l'aide de :\n",
    "\n",
    "$zip(*path\\_coords)$\n",
    "\n",
    "Ainsi pour chaque chemin fourni nous : \n",
    "\n",
    "- Créerons une sous-figure distincte, pour afficher le chemin associé à telle méthode\n",
    "- Traçons le chemin, en reliant les villes dans l'ordre donné par $path$\n",
    "- Affichons les numéros de villes pour chaque point\n",
    "- Mettons en évidence la ville de départ\n",
    "- Enfin nous ajoutons les éléments visuels des graphiques comme les titres, légendes, axes etc..."
   ]
  },
  {
   "cell_type": "markdown",
   "id": "8b9cfc6c",
   "metadata": {},
   "source": [
    "<br>"
   ]
  },
  {
   "cell_type": "markdown",
   "id": "96ef3712",
   "metadata": {},
   "source": [
    "## <u>Implémentation des Heuristiques</u>"
   ]
  },
  {
   "cell_type": "markdown",
   "id": "e4e1a024",
   "metadata": {},
   "source": [
    "Voici les 4 heuristiques implémentées ainsi que leur description et fonctionnement."
   ]
  },
  {
   "cell_type": "markdown",
   "id": "5c3f8a4c",
   "metadata": {},
   "source": [
    "### Nearest Neighbor (neighbor.py)"
   ]
  },
  {
   "cell_type": "markdown",
   "id": "b97b28b0",
   "metadata": {},
   "source": [
    "$\\fbox{Plus Proche Voisin}$\n",
    "\n",
    "Le plus proche voisin est une heuristique de résolution du TSP dite \"gloutonne\". Cette approche a l'avantage de <strong>s'exécuter rapidement</strong> néanmoins elle ne garantit pas une solution optimale. Cette méthode produit un chemin qui s'avère utile en tant que solution initiale, notamment dans deux autres de nos heuristiques : Two-Opt et Simulated Annealing"
   ]
  },
  {
   "cell_type": "code",
   "execution_count": null,
   "id": "cd061328",
   "metadata": {},
   "outputs": [],
   "source": [
    "def nearest_neighbor(distance_matrix):\n",
    "    \"\"\"\n",
    "    MÉTHODE DU VOISIN LE PLUS PROCHE : \n",
    "    Approche heuristique simple pour résoudre le TSP.\n",
    "    Consiste tout simplement à chercher la ville la plus proche de la ville d'origine et ainsi de suite.\n",
    "    \n",
    "    Très rapide (mais pas du tout optimal) et permet d'offrir une base sur laquelle on peut apporter des améliorations (2-opt, simulated annealing)\n",
    "    \"\"\"\n",
    "    n = len(distance_matrix)\n",
    "    unvisited = set(range(n))   # Liste des villes non visitées\n",
    "    current = 0\n",
    "    path = [current]\n",
    "    unvisited.remove(current)\n",
    "\n",
    "    while unvisited:\n",
    "        nearest = min(unvisited, key=lambda city: distance_matrix[current][city])   # On cherche la ville la plus proche\n",
    "        path.append(nearest)                                                        # On l'ajoute au chemin final\n",
    "        current = nearest\n",
    "        unvisited.remove(nearest)                                                   # On enlève la ville la plus proche de unvisited\n",
    "\n",
    "    path.append(path[0])                                                            # On ajoute la ville 0 pour compléter la boucle\n",
    "    return path"
   ]
  },
  {
   "cell_type": "markdown",
   "id": "4046bde7",
   "metadata": {},
   "source": [
    "<u>Paramètres en entrée:</u>\n",
    "- $distance\\_matrix$ est une matrice carrée contenant les distances entre chaque paire de villes. $distance\\_matrix[i][j]$ représente donc la distance entre la ville i et la ville j\n",
    "\n",
    "<u>Paramètres du bloc :</u>\n",
    "- $n$ : Représente le nombre de villes\n",
    "- $unvisited$ : Une liste représentant l'ensemble des villes non visitées\n",
    "- $current$ : Représentant la ville actuelle \n",
    "\n",
    "<u>Retour de l'algorithme :</u>\n",
    "- $path$ : une liste représentant l'ordre des villes à visiter, qui inclue un retour à la ville de départ (la ville 0) grâce à cette commande : $path.append(0)$\n",
    "\n",
    "<u>Principe de l'algorithme :</u>\n",
    "- Avant notre boucle $while$, nous ajoutons à notre chemin $path$ la ville actuelle ($current$), donc la ville de départ et naturellement, celle-ci est retirée de la liste $unvisited$\n",
    "- Nous partons de la ville de départ (donc ici la ville 0)\n",
    "- A chaque étape, l'algorithme choisit la ville non visitée la plus proche et l'ajoute à $path$ tout en la retirant de la liste des villes non visitées $unvisited$\n",
    "- Ce processus est répété jusqu'à ce que toutes les villes aient été visitées \n",
    "- Se termine en revenant à la ville de départ, notamment en ajoutant celle-ci à la fin de $path$"
   ]
  },
  {
   "cell_type": "markdown",
   "id": "e682cf9b",
   "metadata": {},
   "source": [
    "### Cheapest Insertion (insertion.py)"
   ]
  },
  {
   "cell_type": "markdown",
   "id": "4e34f2a8",
   "metadata": {},
   "source": [
    "$\\fbox{Insertion Minimale}$\n",
    "\n",
    "L'insertion minimale est une <strong>heuristique gloutonne</strong> qui aide à construire une solution initiale, souvent plus optimale que celle du Nearest Neighbor, au TSP. L'idée est de construire progressivement un chemin, en insérant à chaque tour la ville non encore visitée, en s'assurant que cet ajout augmente le moins possible le coût total du chemin.\n"
   ]
  },
  {
   "cell_type": "code",
   "execution_count": null,
   "id": "81b44e81",
   "metadata": {},
   "outputs": [],
   "source": [
    "import functions.distance as distance\n",
    "\n",
    "def cheapest_insertion(distance_matrix):\n",
    "    \"\"\"\n",
    "    METHODE D'INSERTION :\n",
    "    Construit une solution approchée du TSP par heuristique d'insertion\n",
    "\n",
    "    La fonction prend en entrée une matrice carrée des distances entre les villes et\n",
    "    renvoie un ordre de visite minimisant approximativment la distance totale du chemin\n",
    "\n",
    "    \"\"\"\n",
    "    n = len(distance_matrix)                             #Nombre total des villes\n",
    "    unvisited = list(range(n))                           #Liste des indices des villes non inserees dans le circuit\n",
    "    path = [unvisited.pop(0), unvisited.pop(0)]          #Initialisation du chemin avec les deux premières villes\n",
    "\n",
    "\n",
    "    while unvisited:\n",
    "        #Recherche la meilleure ville à inserer et de sa position optimale\n",
    "\n",
    "        best_cost = float('inf')                            #Init avec la valeur infini pour la technique de borne inférieure\n",
    "        best_place = None\n",
    "        to_insert = None                                    #Ville à insérer lorsque celle-ci a la plus faible augmentation du coût total\n",
    "\n",
    "        for v in unvisited:                                 #Insertion de chaque ville restantes une à une\n",
    "            for i in range(len(path)):\n",
    "                test_path = path[:i+1] + [v] + path[i+1:]   #Création d'un nouveau chemin hypothétique avec la ville v\n",
    "                new_cost = distance.total_path_distance(test_path, distance_matrix)\n",
    "\n",
    "                #Si l'insertion donne un cout plus optimal alors conservation en mémoire comme meilleure option\n",
    "                if new_cost < best_cost:\n",
    "                    best_cost = new_cost    \n",
    "                    best_place = i+1\n",
    "                    to_insert = v\n",
    "\n",
    "        #Insertion de la \"meilleure ville\" à la \"meilleure position\"\n",
    "        path.insert(best_place, to_insert)\n",
    "        unvisited.remove(to_insert)\n",
    "\n",
    "    path.append(path[0])  #Ajout de la première ville à la fin pour fermer le chemin\n",
    "    return path"
   ]
  },
  {
   "cell_type": "markdown",
   "id": "db84feed",
   "metadata": {},
   "source": [
    "<u>Paramètres d'entrée :</u>\n",
    "\n",
    "- $distance\\_matrix$ qui représente une matrice carrée $D$ des distance, comme celle évoquée pour $2-opt$ (voir la suite). \n",
    "\n",
    "<u>Retour de l'algorithme :</u> nous obtiendrons un circuit complet <strong>fermé</strong> (avec une liste d'indices de villes) qui commence et termine à la même ville de départ.\n",
    "\n",
    "<u>Principe de l'algorithme :</u>\n",
    "\n",
    "Tout d'abord on initialise $path$ avec les deux premières villes (0 et 1) et la liste $unvisited$ qui contient les villes restantes. \n",
    "\n",
    "Ensuite tant qu'il reste des villes qui n'ont pas été visitées pour chaque ville $v$ :\n",
    "\n",
    "- On va tester toutes les positions d'insertion possibles dans le chemin actuel\n",
    "- On calcule le coût total du chemin avec $path\\_length\\_matrix$ lorsque $v$ est supposément inséré à cette position.\n",
    "- On garde l'insertion qui produit le coût total\n",
    "\n",
    "Enfin on va insérer la meilleure ville trouvée à la meilleure position\n",
    "\n",
    "L'algorithme s'arrête lorsque toutes les villes sont dans le chemin."
   ]
  },
  {
   "cell_type": "markdown",
   "id": "33a2f78f",
   "metadata": {},
   "source": [
    "### 2-opt (twoopt.py)"
   ]
  },
  {
   "cell_type": "markdown",
   "id": "684ceeff",
   "metadata": {},
   "source": [
    "$\\fbox{Algorithme 2-OPT}$\n",
    "\n",
    "\n",
    "L'algorihtme 2-opt est une méthode <strong>d'optimisation locale</strong> visant à améliorer une solution initiale, comme mentionné au-dessus. L'idée principale consiste à supprimer deux arêtes du chemin et ensuite à reconnecter les segments d'une autre manière, via des <strong>2-permutations</strong>, si cela permet la réduction du coût total du parcours. "
   ]
  },
  {
   "cell_type": "code",
   "execution_count": null,
   "id": "7ebe5ac4",
   "metadata": {},
   "outputs": [],
   "source": [
    "def two_opt(path, distance_matrix):\n",
    "    \"\"\"\n",
    "    METHODE 2-OPT : Amélioration d'un chemin du TSP\n",
    "    \n",
    "    Prend en entrée un chemin (une liste d'indices) et une matrice de distance\n",
    "    Renvoie un chemin amélioré à l'aide de 2-permutations (inversion d'arête)\n",
    "    \"\"\"\n",
    "    n = len(path)\n",
    "    improve = True              #Initialisation du booléen d'amélioration à Vrai\n",
    "\n",
    "    max_iterations = 1000       #Maximum d'itérations avant arrêt de l'algorithme\n",
    "    iteration = 0               #Comptage d'itérations\n",
    "\n",
    "    while improve and iteration < max_iterations:         #Evite que le calcul ne boucle trop longtemps notamment lorsque la solution intiale est de mauvaise qualité\n",
    "        improve = False\n",
    "        iteration += 1\n",
    "    \n",
    "        for i in range(n-1):\n",
    "                for j in range(i+2, n if i>0 else n-1):   #Empêche les inversions invalides\n",
    "                    a, b = path[i], path[i+1]             # a --> b\n",
    "                    c, d = path[j], path[(j+1)%n]         # c --> d\n",
    "                    \n",
    "                    #Calcul du gain de distance\n",
    "                    delta = -distance_matrix[a][b] -distance_matrix[c][d] + distance_matrix[a][c] + distance_matrix[b][d]\n",
    "\n",
    "                    if delta < 0 :                       #Si delta est négatif, il y a un gain donc on procède à l'échange des arêtes\n",
    "                        path[i+1:j+1] = reversed(path[i+1:j+1])\n",
    "                        improve = True\n",
    "\n",
    "        if iteration >= max_iterations :                 #Condition permettant d'éviter de rallonger le calcul lorsque la solution initale n'est pas du tout optimale \n",
    "             print(f\"AVERTISSEMENT : Arret apres {iteration} iterations, limite maximum atteinte\\n\")\n",
    "    return path"
   ]
  },
  {
   "cell_type": "markdown",
   "id": "550d57f9",
   "metadata": {},
   "source": [
    "<u>Paramètres d'entrée :</u>\n",
    "\n",
    "- $path$ un chemin = $[p_0, p_1, \\dots, p_{n-1}]$\n",
    "- Une matrice des distances $D$ où $D[i][j]$ donne la distance entre les sommets $i$ et $j$.\n",
    "\n",
    "Et nous allons effectuer nos calculs sur deux arêtes $(a,b) = (p_i, p_{i+1})$ et $(c, d) = (p_j, p_{j+1})$ et on propose de remplacer ces deux arêtes par $(a,c)$ et $(b,d)$, en inversant la sous partie entre $b$ et $c$.\n",
    "\n",
    "\n",
    "<strong>Calcul du gain de coût</strong>\n",
    "\n",
    "Le point central est le <strong>calcul du gain</strong> par l'intermédiaire du coefficient $\\Delta$, calculé comme suivant : \n",
    "\n",
    "$\\Delta = -D[p_i][p_{i+1}] - D[p_j][p_{(j+1) \\bmod n}] + D[p_i][p_j] + D[p_{i+1}][p_{(j+1) \\bmod n}]$\n",
    "\n",
    "Si $\\Delta < 0$ alors le coût du chemin est plus bénéfique et donc nous inversons la sous-séquence $path[i+1 : j+1]$\n",
    "\n",
    "\n",
    "<strong>Conditions d'arrêt</strong>\n",
    "- STAGNATION : Une première condition d'arrêt est simplement lorsque l'algorithme ne voit plus de possibilité d'améliorer et d'effectuer des 2-permutions. Alors dans ce cas, le chemin obtenu est considéré comme amélioré au mieux grâce à 2-opt\n",
    "\n",
    "- LIMITE : Cette seconde condition a été développée à la suite de soucis de boucles longues et inefficaces, surtout lorsque la solution initiale entrée est mauvais. \n",
    "\n",
    "    $max\\_iterations = 1000$\n",
    "\n",
    "Si le seuil est atteint, le processus est interrompu, même si nous n'avons pas encore atteint la stagnation."
   ]
  },
  {
   "cell_type": "markdown",
   "id": "aa021049",
   "metadata": {},
   "source": [
    "### Simulated Annealing (annealing.py)"
   ]
  },
  {
   "cell_type": "markdown",
   "id": "98a48b43",
   "metadata": {},
   "source": [
    "$\\fbox{Algorithme du Recuit Simulé}$\n",
    "\n",
    "Permet, en acceptant de manière probabiliste des solutions de moins bonne qualité, d'éviter les minimas locaux dans la recherche. Utilise les inversions du 2-Opt pour améliorer la solution, compare le delta (variation des distances) avec une probabilité dépendant de la température, et intègre un schéma de refroidissement qui réduit progressivement et lentement la température à chaque itération. "
   ]
  },
  {
   "cell_type": "code",
   "execution_count": null,
   "id": "42a77422",
   "metadata": {},
   "outputs": [],
   "source": [
    "import math\n",
    "import random\n",
    "\n",
    "def simulated_annealing(distance_matrix, path, lower_bound, initial_temperature, final_temperature, cooling_rate):\n",
    "    \"\"\"\n",
    "    MÉTHODE DU RECUIT SIMULÉ :\n",
    "    Technique inspirée de la métallurgie acceptant temporairement des solutions moins bonnes pour éviter les minimas locaux.\n",
    "    Implique l'aléatoire et une diminution de la température au fil des itérations puis se base sur le 2-opt pour la permutation des arêtes.\n",
    "    \"\"\"\n",
    "    n = len(path)\n",
    "    best_length = lower_bound\n",
    "    best_path = path\n",
    "    T = initial_temperature\n",
    "    iteration = 0\n",
    "    while T > final_temperature:\n",
    "        i = random.randint(0, n-1)              # La première ville est choisie au hasard\n",
    "        j = (i + random.randint(2, n-2)) % n    # La deuxième ville est également choisie au hasard et forcément différente de la première\n",
    "        if j < i:\n",
    "            i, j = j, i                         # j est toujours après i dans l'ordre du chemin\n",
    "            \n",
    "        delta = distance_matrix[path[i]][path[j]] + distance_matrix[path[i+1]][path[(j+1) % n]]\\\n",
    "                - distance_matrix[path[i]][path[i + 1]] - distance_matrix[path[j]][path[(j + 1) % n]] # Calcule la variation de la longueur totale du chemin s'il y a une inversion\n",
    "                \n",
    "        if delta < 0 or math.exp(-delta / T) > random.random():             # Si delta négatif, amélioration donc on accepte, sinon on accepte en fonction de delta et de la température\n",
    "            lower_bound = lower_bound + delta\n",
    "            for k in range((j - i) // 2):\n",
    "                path[k + i + 1], path[j - k] = path[j - k], path[k + i + 1] # Inversion d'arête venant du 2-opt\n",
    "\n",
    "        # Vérifie s'il y a une amélioration de la solution\n",
    "        if best_length > lower_bound:\n",
    "            best_length = lower_bound\n",
    "            best_path = path\n",
    "        iteration += 1\n",
    "        if iteration % (n * n) == 0:\n",
    "            T *= cooling_rate # Réduction de la température\n",
    "\n",
    "    return best_path, best_length"
   ]
  },
  {
   "cell_type": "markdown",
   "id": "f0d9f6b7",
   "metadata": {},
   "source": [
    "<u>Paramètres d'entrée :</u>\n",
    "- $distance\\_matrix$ : Matrice des distances entre les villes\n",
    "- $path$ : Chemin initial (celui issue de Nearest Neighbor)\n",
    "- $lower\\_bound$ : La distance totale du chemin initial (On se sert de Nearest Neighbor comme borne inférieure)\n",
    "- $initial\\_temperature$ : Température initiale, elle doit être élevée pour une recherche de solution large\n",
    "- $final\\_temperature$ : Température finale, seuil d'arrêt de l'algorithme, elle doit être faible pour une bonne précision de la solution\n",
    "- $cooling\\_rate$ : Facteur de refroidissement (< 1) pour permettre la réduction de la température à chaque itération\n",
    "\n",
    "<u>Principe de l'algorithme :</u>\n",
    "- La boucle principale $while$ continue tant que la température reste supérieure à la température finale\n",
    "- Une première ville est sélectionnée au hasard, la deuxième l'est également mais on s'assure qu'elle est \"plus loin\" dans le chemin.\n",
    "- Calcul du delta c'est-à-dire la variation de la longueur du chemin si le mouvement 2-opt est appliqué. On prend les distances entre les villes avant inversion et on le soustrait aux distances après inversion\n",
    "- Si le delta est négatif, le nouveau chemin est meilleur et on l'accepte. Sinon on l'accepte avec une probabilité donnée par $exp(-delta/T)$. On effectue alors inversion du 2-opt.\n",
    "- On met enfin à jour la solution si elle est meilleure et on refroidit périodiquement et progressivement la température. À la fin le meilleur chemin et la meilleure longueur sont trouvés."
   ]
  },
  {
   "cell_type": "markdown",
   "id": "537d2584",
   "metadata": {},
   "source": [
    "<br>"
   ]
  },
  {
   "cell_type": "markdown",
   "id": "b293cac5",
   "metadata": {},
   "source": [
    "## <u>Main</u>"
   ]
  },
  {
   "cell_type": "code",
   "execution_count": null,
   "id": "a49e42b6",
   "metadata": {},
   "outputs": [],
   "source": [
    "\"\"\"\n",
    "PROJET MATHS-INFO\n",
    "\"\"\"\n",
    "\n",
    "### IMPORTS ###\n",
    "import functions.generate as generate\n",
    "import algorithms.neighbor as neighbor\n",
    "import algorithms.insertion as insertion\n",
    "import algorithms.twoopt as twoopt\n",
    "import algorithms.annealing as annealing\n",
    "import functions.visualisation as vs\n",
    "import functions.quality as qc\n",
    "import functions.distance as distance\n",
    "\n",
    "### MAIN ###\n",
    "distance_matrix, coords = generate.distance_matrix(50)\n",
    "\n",
    "print(\"Matrice des distances entre les villes: \\n\")\n",
    "print(distance_matrix)\n",
    "print(\"\\n\")\n",
    "print(\"Note : si le pourcentage est négatif il y a amélioration, si le pourcentage est positif alors il y a dégradation par rapport à Nearest Neighbor.\")\n",
    "    \n",
    "algo1 = neighbor.nearest_neighbor(distance_matrix)\n",
    "lower_bound = distance.total_path_distance(algo1, distance_matrix) # Référence pour les autres algorithmes\n",
    "qc.evaluate_quality(\"Nearest Neighbor\", algo1, distance_matrix, lower_bound)\n",
    "\n",
    "#Copie du chemin obtenu avec Nearest Neighbor, pour TwoOpt et Simulated Annealing\n",
    "path = algo1.copy()\n",
    "\n",
    "algo2 = insertion.cheapest_insertion(distance_matrix)\n",
    "qc.evaluate_quality(\"Cheapest Insertion\", algo2, distance_matrix, lower_bound)\n",
    "\n",
    "# Choix du chemin de Nearest Neighbor pour le calcul des deux prochaines heuristiques\n",
    "algo3 = twoopt.two_opt(path, distance_matrix)\n",
    "qc.evaluate_quality(\"2-Opt\", algo3, distance_matrix, lower_bound)\n",
    "\n",
    "# Paramètres de Simulated Annealing\n",
    "initial_temperature = 5000\n",
    "cooling_rate = 0.995\n",
    "path = algo1.copy()\n",
    "path.pop() # On enlève le dernier 0 de Nearest Neighbor pour éviter les doublons\n",
    "\n",
    "algo4_path, algo4_length = annealing.simulated_annealing(distance_matrix, path, lower_bound, initial_temperature, 0.001, cooling_rate)\n",
    "qc.evaluate_quality(\"Simulated Annealing\", algo4_path, distance_matrix, lower_bound)\n",
    "\n",
    "# Affichage sur la même figure des visualisations des 4 heuristiques\n",
    "vs.plot_path(coords, [algo1, algo2, algo3, algo4_path], [\"Nearest Neighbor\", \"Insertion\", \"Two Opt\", \"Simulated Annealing\"])"
   ]
  }
 ],
 "metadata": {
  "language_info": {
   "name": "python"
  }
 },
 "nbformat": 4,
 "nbformat_minor": 5
}
