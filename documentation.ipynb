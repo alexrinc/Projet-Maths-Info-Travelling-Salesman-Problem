{
 "cells": [
  {
   "cell_type": "markdown",
   "id": "ee08f462",
   "metadata": {},
   "source": [
    "<H1 style=text-align:center;><b>Projet Maths-Info : Traveling Salesman Problem</b></H1>\n",
    "<h1 style=text-align:center;>(AMU) EADS 2024-2025</h1>\n",
    "\n",
    "<h2 style=text-align:center;><i>Projet présenté par : Alexandre ROMANO / Victoria BOUCHET / Vahé TILDIAN</i></h2>"
   ]
  },
  {
   "cell_type": "markdown",
   "id": "c2a56fef",
   "metadata": {},
   "source": [
    "<br><br><br>"
   ]
  },
  {
   "cell_type": "markdown",
   "id": "9f3bdaf8",
   "metadata": {},
   "source": [
    "## <u>Introduction</u>"
   ]
  },
  {
   "cell_type": "markdown",
   "id": "900a0825",
   "metadata": {},
   "source": [
    "...\n"
   ]
  },
  {
   "cell_type": "markdown",
   "id": "c563dbc9",
   "metadata": {},
   "source": [
    "<br>"
   ]
  },
  {
   "cell_type": "markdown",
   "id": "767eaf18",
   "metadata": {},
   "source": [
    "## <u>Fonctions utiles</u>"
   ]
  },
  {
   "cell_type": "markdown",
   "id": "7b1979d4",
   "metadata": {},
   "source": [
    "..."
   ]
  },
  {
   "cell_type": "markdown",
   "id": "d6c1f132",
   "metadata": {},
   "source": [
    "### distance.py"
   ]
  },
  {
   "cell_type": "markdown",
   "id": "b68e0aa1",
   "metadata": {},
   "source": [
    "..."
   ]
  },
  {
   "cell_type": "code",
   "execution_count": null,
   "id": "292ee3e1",
   "metadata": {},
   "outputs": [],
   "source": []
  },
  {
   "cell_type": "markdown",
   "id": "c51d00d1",
   "metadata": {},
   "source": [
    "### generate.py"
   ]
  },
  {
   "cell_type": "markdown",
   "id": "ca3a7c6e",
   "metadata": {},
   "source": [
    "..."
   ]
  },
  {
   "cell_type": "code",
   "execution_count": null,
   "id": "067de63b",
   "metadata": {},
   "outputs": [],
   "source": []
  },
  {
   "cell_type": "markdown",
   "id": "6aa4feb8",
   "metadata": {},
   "source": [
    "### quality.py"
   ]
  },
  {
   "cell_type": "markdown",
   "id": "e3b5802a",
   "metadata": {},
   "source": [
    "..."
   ]
  },
  {
   "cell_type": "code",
   "execution_count": null,
   "id": "2390be60",
   "metadata": {},
   "outputs": [],
   "source": []
  },
  {
   "cell_type": "markdown",
   "id": "18bce672",
   "metadata": {},
   "source": [
    "### visualisation.py"
   ]
  },
  {
   "cell_type": "markdown",
   "id": "fe9bca80",
   "metadata": {},
   "source": [
    "..."
   ]
  },
  {
   "cell_type": "code",
   "execution_count": null,
   "id": "d067118d",
   "metadata": {},
   "outputs": [],
   "source": []
  },
  {
   "cell_type": "markdown",
   "id": "8b9cfc6c",
   "metadata": {},
   "source": [
    "<br>"
   ]
  },
  {
   "cell_type": "markdown",
   "id": "96ef3712",
   "metadata": {},
   "source": [
    "## <u>Implémentation des Heuristiques</u>"
   ]
  },
  {
   "cell_type": "markdown",
   "id": "e4e1a024",
   "metadata": {},
   "source": [
    "..."
   ]
  },
  {
   "cell_type": "markdown",
   "id": "5c3f8a4c",
   "metadata": {},
   "source": [
    "### Nearest Neighbor (neighbor.py)"
   ]
  },
  {
   "cell_type": "markdown",
   "id": "b97b28b0",
   "metadata": {},
   "source": [
    "..."
   ]
  },
  {
   "cell_type": "code",
   "execution_count": null,
   "id": "cd061328",
   "metadata": {},
   "outputs": [],
   "source": []
  },
  {
   "cell_type": "markdown",
   "id": "e682cf9b",
   "metadata": {},
   "source": [
    "### Cheapest Insertion (insertion.py)"
   ]
  },
  {
   "cell_type": "markdown",
   "id": "4e34f2a8",
   "metadata": {},
   "source": [
    "...\n"
   ]
  },
  {
   "cell_type": "code",
   "execution_count": null,
   "id": "81b44e81",
   "metadata": {},
   "outputs": [],
   "source": []
  },
  {
   "cell_type": "markdown",
   "id": "33a2f78f",
   "metadata": {},
   "source": [
    "### 2-opt (twoopt.py)"
   ]
  },
  {
   "cell_type": "markdown",
   "id": "684ceeff",
   "metadata": {},
   "source": [
    "..."
   ]
  },
  {
   "cell_type": "code",
   "execution_count": null,
   "id": "7ebe5ac4",
   "metadata": {},
   "outputs": [],
   "source": []
  },
  {
   "cell_type": "markdown",
   "id": "aa021049",
   "metadata": {},
   "source": [
    "### Simulated Annealing (annealing.py)"
   ]
  },
  {
   "cell_type": "markdown",
   "id": "98a48b43",
   "metadata": {},
   "source": [
    "..."
   ]
  },
  {
   "cell_type": "code",
   "execution_count": null,
   "id": "42a77422",
   "metadata": {},
   "outputs": [],
   "source": []
  },
  {
   "cell_type": "markdown",
   "id": "537d2584",
   "metadata": {},
   "source": [
    "<br>"
   ]
  },
  {
   "cell_type": "markdown",
   "id": "b293cac5",
   "metadata": {},
   "source": [
    "## <u>Main</u>"
   ]
  },
  {
   "cell_type": "markdown",
   "id": "2bf60382",
   "metadata": {},
   "source": [
    "..."
   ]
  },
  {
   "cell_type": "code",
   "execution_count": null,
   "id": "a49e42b6",
   "metadata": {},
   "outputs": [],
   "source": []
  }
 ],
 "metadata": {
  "language_info": {
   "name": "python"
  }
 },
 "nbformat": 4,
 "nbformat_minor": 5
}
