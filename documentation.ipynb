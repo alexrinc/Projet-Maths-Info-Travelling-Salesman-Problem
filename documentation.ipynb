{
 "cells": [
  {
   "cell_type": "markdown",
   "id": "ee08f462",
   "metadata": {},
   "source": [
    "<H1 style=text-align:center;><b>Projet Maths-Info : Traveling Salesman Problem</b></H1>\n",
    "<h1 style=text-align:center;>(AMU) EADS 2024-2025</h1>\n",
    "\n",
    "<h2 style=text-align:center;><i>Projet présenté par : Alexandre ROMANO / Victoria BOUCHET / Vahé TILDIAN</i></h2>"
   ]
  },
  {
   "cell_type": "markdown",
   "id": "c2a56fef",
   "metadata": {},
   "source": [
    "<br><br><br>"
   ]
  },
  {
   "cell_type": "markdown",
   "id": "9f3bdaf8",
   "metadata": {},
   "source": [
    "## <u>Introduction</u>"
   ]
  },
  {
   "cell_type": "markdown",
   "id": "900a0825",
   "metadata": {},
   "source": [
    "...\n"
   ]
  },
  {
   "cell_type": "markdown",
   "id": "c563dbc9",
   "metadata": {},
   "source": [
    "<br>"
   ]
  },
  {
   "cell_type": "markdown",
   "id": "767eaf18",
   "metadata": {},
   "source": [
    "## <u>Fonctions utiles</u>"
   ]
  },
  {
   "cell_type": "markdown",
   "id": "7b1979d4",
   "metadata": {},
   "source": [
    "..."
   ]
  },
  {
   "cell_type": "markdown",
   "id": "d6c1f132",
   "metadata": {},
   "source": [
    "### distance.py"
   ]
  },
  {
   "cell_type": "markdown",
   "id": "b68e0aa1",
   "metadata": {},
   "source": [
    "..."
   ]
  },
  {
   "cell_type": "code",
   "execution_count": null,
   "id": "292ee3e1",
   "metadata": {},
   "outputs": [],
   "source": [
    "# Distance total d'un chemin\n",
    "def total_path_distance(path, distance_matrix):\n",
    "    path_length = 0\n",
    "    for i in range(len(path) - 1):\n",
    "        path_length += distance_matrix[path[i]][path[i + 1]]\n",
    "    path_length += distance_matrix[path[-1]][path[0]]\n",
    "    return path_length"
   ]
  },
  {
   "cell_type": "markdown",
   "id": "c51d00d1",
   "metadata": {},
   "source": [
    "### generate.py"
   ]
  },
  {
   "cell_type": "markdown",
   "id": "ca3a7c6e",
   "metadata": {},
   "source": [
    "..."
   ]
  },
  {
   "cell_type": "code",
   "execution_count": null,
   "id": "067de63b",
   "metadata": {},
   "outputs": [],
   "source": [
    "import numpy as np\n",
    "from dataclasses import dataclass\n",
    "import random\n",
    "\n",
    "\n",
    "### Génération d'un ensemble de villes et la distance entre elles ###\n",
    "## Peut être généré en faisant une matrice tel que pour la i-ème ville et j-ième ville on ait \n",
    "# [len(i,i) = 0, len(i,j), len(i,j+1) ... ]\n",
    "# [len(j,i), len(j,j) = 0, len(j+1,j+1) ... ]\n",
    "\n",
    "@dataclass\n",
    "class Ville:\n",
    "    \n",
    "    def __init__(self, x, y, id):\n",
    "        self.x = x\n",
    "        self.y = y\n",
    "        self.id = id\n",
    "\n",
    "    def distance_to(self, other: 'Ville'):\n",
    "        return np.sqrt((self.x - other.x)**2 + (self.y - other.y)**2)\n",
    "\n",
    "def distance_matrix(matrix_size): # => Nombre de villes\n",
    "    villes = [Ville(random.randrange(0, 100), random.randrange(0, 100), i) for i in range(matrix_size)] #uniform -> randrange pour du int au lieu de float\n",
    "    distance_matrix = np.zeros((len(villes), len(villes)))\n",
    "\n",
    "    for i, ville1 in enumerate(villes):\n",
    "        for j, ville2 in enumerate(villes):\n",
    "            distance_matrix[i][j] = ville1.distance_to(ville2)\n",
    "\n",
    "    #TEST : retour des coordonénes pour tester la visualisation\n",
    "    coords = [(v.x, v.y) for v in villes]\n",
    "    \n",
    "    return distance_matrix, coords"
   ]
  },
  {
   "cell_type": "markdown",
   "id": "6aa4feb8",
   "metadata": {},
   "source": [
    "### quality.py"
   ]
  },
  {
   "cell_type": "markdown",
   "id": "e3b5802a",
   "metadata": {},
   "source": [
    "..."
   ]
  },
  {
   "cell_type": "code",
   "execution_count": null,
   "id": "2390be60",
   "metadata": {},
   "outputs": [],
   "source": [
    "### Fonction qui testera la qualité et les performances d'un algorithme TSP ###\n",
    "import functions.distance as distance\n",
    "import time\n",
    "\n",
    "def gap(total_path_distance, lower_bound):\n",
    "    return f\"{(total_path_distance - lower_bound) / lower_bound * 100} %\"\n",
    "\n",
    "def evaluate_quality(name, algo, distance_matrix, lower_bound):\n",
    "    start_time = time.process_time()\n",
    "    \n",
    "    path = distance.total_path_distance(algo, distance_matrix)\n",
    "    print(f'Route la plus courte pour l\\'algorithme \" {name} \" : \\n{algo}')\n",
    "    print(f\"Longueur totale du chemin trouvé : {path}\")\n",
    "    print(f\"Qualité de la solution par rapport à la borne inférieure (Nearest Neighbor) : {gap(path, lower_bound)} de distance en moins\")\n",
    "    \n",
    "    end_time = time.process_time()\n",
    "    print(f\"Temps de calcul : {end_time} s\\n\")"
   ]
  },
  {
   "cell_type": "markdown",
   "id": "18bce672",
   "metadata": {},
   "source": [
    "### visualisation.py"
   ]
  },
  {
   "cell_type": "markdown",
   "id": "fe9bca80",
   "metadata": {},
   "source": [
    "..."
   ]
  },
  {
   "cell_type": "code",
   "execution_count": null,
   "id": "d067118d",
   "metadata": {},
   "outputs": [],
   "source": [
    "import matplotlib.pyplot as plt\n",
    "\n",
    "def plot_path(coord, paths, names):\n",
    "    \"\"\"\n",
    "    Visualisation des chemins obtenus avec :\n",
    "        coord = Liste des coordonnées\n",
    "        path = Ordre des villes visités \n",
    "        name = nom de la technique utilisée\n",
    "    \n",
    "    \"\"\"\n",
    "    fig, axis = plt.subplots(1, len(paths), figsize=(5 * len(paths), 6))\n",
    "    \n",
    "    if len(paths) == 1:\n",
    "        axis = [axis]\n",
    "\n",
    "    for ax, path, name in zip(axis, paths, names):\n",
    "        path_coords = [coord[i] for i in path] + [coord[path[0]]]\n",
    "        \n",
    "        # Séparation des coordonnées x et y pour créer deux listes avec chacunes d'entre elles\n",
    "        x_path, y_path = zip(*path_coords)\n",
    "        \n",
    "        # --- Visualisation du chemin obtenu ---\n",
    "        #plt.figure(figsize=(8,6))\n",
    "        ax.plot(x_path, y_path, 'ro-', label ='Chemin TSP', markersize=5)  #b --> couleur bleue; o --> marqueur cercle ; \"-\" --> relié par des lignes \n",
    "        \n",
    "        # --- Affichage des numéros de villes ---\n",
    "        # On parcourt les coordonnées originales pour placer chaque numéros\n",
    "        for i, (x,y) in enumerate(coord):\n",
    "            #Affiche le numéro de la ville 'i' (on décale un peu pour la lisibilité)\n",
    "            ax.text(x,y + 0.05, str(i), color='blue', fontsize=12, ha='center')\n",
    "\n",
    "        # Mise en évidence du point de départ\n",
    "        start_city_coords = coord[path[0]]\n",
    "        ax.plot(start_city_coords[0], start_city_coords[1], 'go', markersize=10, label=\"Ville de départ\")\n",
    "\n",
    "\n",
    "        # --- Mise en forme du graphique ---\n",
    "        ax.set_title(f\"Méthode {name}\")\n",
    "        ax.set_xlabel(\"Coordonnée x\")       #Axe des x\n",
    "        ax.set_ylabel(\"Coordonnée y\")       #Axe des y\n",
    "        ax.legend()\n",
    "        ax.grid(True)                   #Grille\n",
    "        ax.axis('equal')                #Evite les distorsions\n",
    "    \n",
    "    plt.tight_layout()\n",
    "    plt.show()                       #Affichage de la fenêtre"
   ]
  },
  {
   "cell_type": "markdown",
   "id": "8b9cfc6c",
   "metadata": {},
   "source": [
    "<br>"
   ]
  },
  {
   "cell_type": "markdown",
   "id": "96ef3712",
   "metadata": {},
   "source": [
    "## <u>Implémentation des Heuristiques</u>"
   ]
  },
  {
   "cell_type": "markdown",
   "id": "e4e1a024",
   "metadata": {},
   "source": [
    "..."
   ]
  },
  {
   "cell_type": "markdown",
   "id": "5c3f8a4c",
   "metadata": {},
   "source": [
    "### Nearest Neighbor (neighbor.py)"
   ]
  },
  {
   "cell_type": "markdown",
   "id": "b97b28b0",
   "metadata": {},
   "source": [
    "..."
   ]
  },
  {
   "cell_type": "code",
   "execution_count": null,
   "id": "cd061328",
   "metadata": {},
   "outputs": [],
   "source": [
    "### Nearest Neighbor ###\n",
    "def nearest_neighbor(distance_matrix):\n",
    "    n = len(distance_matrix)\n",
    "    unvisited = set(range(n))\n",
    "    current = 0\n",
    "    route = [current]\n",
    "    unvisited.remove(current)\n",
    "\n",
    "    while unvisited:\n",
    "        nearest = min(unvisited, key=lambda city: distance_matrix[current][city])\n",
    "        route.append(nearest)\n",
    "        current = nearest\n",
    "        unvisited.remove(nearest)\n",
    "\n",
    "    route.append(route[0])\n",
    "    return route"
   ]
  },
  {
   "cell_type": "markdown",
   "id": "e682cf9b",
   "metadata": {},
   "source": [
    "### Cheapest Insertion (insertion.py)"
   ]
  },
  {
   "cell_type": "markdown",
   "id": "4e34f2a8",
   "metadata": {},
   "source": [
    "...\n"
   ]
  },
  {
   "cell_type": "code",
   "execution_count": null,
   "id": "81b44e81",
   "metadata": {},
   "outputs": [],
   "source": [
    "#Code de l'heuristique d'insertion minimale\n",
    "import functions.distance as distance\n",
    "\n",
    "def cheapest_insertion(dist_matrix):\n",
    "    \"\"\"\n",
    "    METHODE D'INSERTION : \n",
    "    Construit une solution approchée du TSP par heuristique d'insertion\n",
    "\n",
    "    La fonction prend en entrée une matrice carrée des distances entre les villes et\n",
    "    renvoie un ordre de visite minimisant approximativment la distance totale du chemin\n",
    "\n",
    "    \"\"\"\n",
    "    n = len(dist_matrix)                                 #Nombre total des villes\n",
    "    unvisited = list(range(n))                           #Liste des idices des villes non inserees dans le circuit\n",
    "    path = [unvisited.pop(0), unvisited.pop(0)]          #Initialisation du chemin avec les deux premières villes\n",
    "\n",
    "\n",
    "    while unvisited:\n",
    "        #Recherhce la meilleure ville à inserer et de sa position optimale\n",
    "\n",
    "        best_cost = float('inf')                            #Init avec la valeur infini pour technique borne inférieur\n",
    "        best_place = None\n",
    "        to_insert = None                                    #Ville à insérer lorsque celle-ci augmente le moins le coût total du chemin\n",
    "\n",
    "        for v in unvisited:                                 #Insertion de chaque ville restantes une à une\n",
    "            for i in range(len(path)):\n",
    "                test_path = path[:i+1] + [v] + path[i+1:]   #Création d'un nouveau chemin hypothétique ave la ville v\n",
    "                new_cost = distance.total_path_distance(test_path, dist_matrix)\n",
    "\n",
    "                #Si l'insertion donne un meilleur cout alors on la garde en mémoire comme meilleure option\n",
    "                if new_cost < best_cost:\n",
    "                    best_cost = new_cost    \n",
    "                    best_place = i+1\n",
    "                    to_insert = v\n",
    "\n",
    "        #Insertion de la meilleure ville à la meilleure position\n",
    "        path.insert(best_place, to_insert)\n",
    "        unvisited.remove(to_insert)\n",
    "\n",
    "    path.append(path[0])\n",
    "    return path\n"
   ]
  },
  {
   "cell_type": "markdown",
   "id": "33a2f78f",
   "metadata": {},
   "source": [
    "### 2-opt (twoopt.py)"
   ]
  },
  {
   "cell_type": "markdown",
   "id": "684ceeff",
   "metadata": {},
   "source": [
    "..."
   ]
  },
  {
   "cell_type": "code",
   "execution_count": null,
   "id": "7ebe5ac4",
   "metadata": {},
   "outputs": [],
   "source": [
    "#Code permettant de résoudre le TSP avec la méthode 2-opt\n",
    "#Se basant sur des 2-permutations\n",
    "\n",
    "def two_opt(path, dist_matrix):\n",
    "    \"\"\"\n",
    "    METHODE 2-OPT : Amélioration d'un chemin du TSP\n",
    "    Prend en entrée un chemin (une liste d'indices) et une matrice de distance\n",
    "    Renvoie un chemin amélioré à l'aide de 2-permutations (inversion d'arête)\n",
    "    \"\"\"\n",
    "    n = len(path)\n",
    "    improve = True              #Initialisation du booléen d'amélioration à Vrai\n",
    "\n",
    "    max_iterations = 1000       #Maximum d'itération avant arrêt de l'algorithme\n",
    "    iteration = 0               #Comptage d'itération\n",
    "\n",
    "    while improve and iteration < max_iterations:         #Evite que le calcul ne boucle trop longtemps lorsque la solution initiale est mauvaise\n",
    "        improve = False\n",
    "        iteration += 1\n",
    "    \n",
    "        for i in range(n-1):\n",
    "                for j in range(i+2, n if i>0 else n-1):   #Empêche les inversions invalides\n",
    "                    a, b = path[i], path[i+1]             # a --> b\n",
    "                    c, d = path[j], path[(j+1)%n]         # c --> d\n",
    "                    \n",
    "                    #Calcul du gain de distance\n",
    "                    delta = -dist_matrix[a][b] -dist_matrix[c][d] + dist_matrix[a][c] + dist_matrix[b][d]\n",
    "\n",
    "                    if delta < 0 : #Si delta est signifcativement négatif alors le chemin est plus court, on procède à l'échange\n",
    "                        path[i+1:j+1] = reversed(path[i+1:j+1])\n",
    "                        improve = True\n",
    "\n",
    "        if iteration >= max_iterations :\n",
    "             print(f\"Avertissement : Arret apres {iteration} iterations, limite maximum\\n\")\n",
    "    return path"
   ]
  },
  {
   "cell_type": "markdown",
   "id": "aa021049",
   "metadata": {},
   "source": [
    "### Simulated Annealing (annealing.py)"
   ]
  },
  {
   "cell_type": "markdown",
   "id": "98a48b43",
   "metadata": {},
   "source": [
    "..."
   ]
  },
  {
   "cell_type": "code",
   "execution_count": null,
   "id": "42a77422",
   "metadata": {},
   "outputs": [],
   "source": [
    "import math\n",
    "import random\n",
    "\n",
    "def total_distance(route, coords): # à enlever ? Redondance avec quality\n",
    "    dist = 0\n",
    "    for i in range(len(route)):\n",
    "        ville1 = coords[route[i]]\n",
    "        ville2 = coords[route[(i + 1) % len(route)]]\n",
    "        dist += math.sqrt((ville1[0] - ville2[0]) ** 2 + (ville1[1] - ville2[1]) ** 2)\n",
    "    return dist\n",
    "\n",
    "def simulated_annealing(coords, path, initial_temp, cooling_rate):   \n",
    "    current_path = path\n",
    "    current_distance = total_distance(current_path, coords)\n",
    "\n",
    "    best_path = current_path[:]\n",
    "    best_distance = current_distance\n",
    "\n",
    "    T = initial_temp\n",
    "    max_iterations = 50000\n",
    "\n",
    "    for iteration in range(max_iterations):\n",
    "        # 2-opt\n",
    "        i = random.randint(0, len(coords) - 2)\n",
    "        k = random.randint(i + 1, len(coords) - 1)\n",
    "        \n",
    "        new_path = current_path[:i] + current_path[i:k+1][::-1] + current_path[k+1:]\n",
    "        new_distance = total_distance(new_path, coords)\n",
    "        delta = new_distance - current_distance\n",
    "        \n",
    "        # Est-ce une meilleure solution ?\n",
    "        if delta < 0 or random.random() < math.exp(-delta / T):\n",
    "            current_path = new_path\n",
    "            current_distance = new_distance\n",
    "            # Mise à jour de la meilleure solution\n",
    "            if new_distance < best_distance:\n",
    "                best_path = new_path\n",
    "                best_distance = new_distance\n",
    "\n",
    "        # Réduit la température.\n",
    "        T *= cooling_rate\n",
    "        \n",
    "        \"\"\" if iteration % 1000 == 0: # Pour suivre l'avancée\n",
    "            print(f\"Iteration {iteration}: distance actuelle = {current_distance:.4f}, meilleure distance = {best_distance:.4f}\") \"\"\"\n",
    "\n",
    "    index = best_path.index(0)                          # L'index de la ville 0\n",
    "    best_path = best_path[index:] + best_path[:index]   # On réarrange le chemin pour commencer par la ville 0 (le chemin reste le même)\n",
    "    best_path.append(0)                                 # Retour à la ville de départ (0)\n",
    "    return best_path, best_distance\n",
    "\n",
    "if __name__ == '__main__': # TEST\n",
    "    nb_villes = 10\n",
    "    cities = [(random.uniform(0, 100), random.uniform(0, 100)) for _ in range(nb_villes)]\n",
    "    \n",
    "    # Haute température de départ pour une exploration large des solutions, refroidissement lent pour une convergence graduelle\n",
    "    initial_temp = 10000\n",
    "    cooling_rate = 0.995\n",
    "    \n",
    "    path = [0, 2, 9, 3, 7, 6, 5, 1, 4, 8]\n",
    "    \n",
    "    best_path, best_distance = simulated_annealing(cities, path, initial_temp, cooling_rate)\n",
    "    \n",
    "    print(\"\\nBest path :\")\n",
    "    print(best_path)\n",
    "    print(f\"Total distance: {best_distance:.4f}\")"
   ]
  },
  {
   "cell_type": "markdown",
   "id": "537d2584",
   "metadata": {},
   "source": [
    "<br>"
   ]
  },
  {
   "cell_type": "markdown",
   "id": "b293cac5",
   "metadata": {},
   "source": [
    "## <u>Main</u>"
   ]
  },
  {
   "cell_type": "markdown",
   "id": "2bf60382",
   "metadata": {},
   "source": [
    "..."
   ]
  },
  {
   "cell_type": "code",
   "execution_count": null,
   "id": "a49e42b6",
   "metadata": {},
   "outputs": [],
   "source": [
    "\"\"\"\n",
    "PROJET MATHS-INFO\n",
    "\"\"\"\n",
    "\n",
    "### IMPORTS ###\n",
    "import functions.generate as generate\n",
    "import algorithms.neighbor as neighbor\n",
    "import algorithms.insertion as insertion\n",
    "import algorithms.twoopt as twoopt\n",
    "import algorithms.annealing as annealing\n",
    "import functions.visualisation as vs\n",
    "import functions.quality as qc\n",
    "import functions.distance as distance\n",
    "\n",
    "### MAIN ###\n",
    "distance_matrix, coords = generate.distance_matrix(50)\n",
    "\n",
    "print(\"Matrice des distances entre les villes: \\n\")\n",
    "print(distance_matrix)\n",
    "print(\"\\n\")\n",
    "\n",
    "algo1 = neighbor.nearest_neighbor(distance_matrix)\n",
    "lower_bound = distance.total_path_distance(algo1, distance_matrix) # Référence pour les autres algorithmes\n",
    "qc.evaluate_quality(\"Nearest Neighbor\", algo1, distance_matrix, lower_bound)\n",
    "\n",
    "algo2 = insertion.cheapest_insertion(distance_matrix)\n",
    "qc.evaluate_quality(\"Cheapest Insertion\", algo2, distance_matrix, lower_bound)\n",
    "\n",
    "# Choix du chemin de Nearest Neighbor pour le calcul des deux prochaines heuristiques\n",
    "algo3 = twoopt.two_opt(algo1.copy(), distance_matrix)\n",
    "qc.evaluate_quality(\"2-Opt\", algo3, distance_matrix, lower_bound)\n",
    "\n",
    "# Paramètres de Simulated Annealing\n",
    "initial_temperature = 10000\n",
    "cooling_rate = 0.995\n",
    "path = algo1.copy()\n",
    "\n",
    "path.pop() # On enlève le dernier 0 de Nearest Neighbor pour éviter les doublons\n",
    "\n",
    "algo4_path, algo4_length = annealing.simulated_annealing(coords, path, initial_temperature, cooling_rate)\n",
    "qc.evaluate_quality(\"Simulated Annealing\", algo4_path, distance_matrix, lower_bound)\n",
    "\n",
    "# Affichage sur la même figure des visualisations des 3 heuristiques\n",
    "vs.plot_path(coords, [algo1, algo2, algo3], [\"Nearest Neighbor\", \"Insertion\", \"Two Opt\"])"
   ]
  }
 ],
 "metadata": {
  "language_info": {
   "name": "python"
  }
 },
 "nbformat": 4,
 "nbformat_minor": 5
}
